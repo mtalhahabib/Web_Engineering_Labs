{
  "nbformat": 4,
  "nbformat_minor": 0,
  "metadata": {
    "colab": {
      "provenance": [],
      "authorship_tag": "ABX9TyNhR7LnC9LE4AeWxaXMvs1O",
      "include_colab_link": true
    },
    "kernelspec": {
      "name": "python3",
      "display_name": "Python 3"
    },
    "language_info": {
      "name": "python"
    }
  },
  "cells": [
    {
      "cell_type": "markdown",
      "metadata": {
        "id": "view-in-github",
        "colab_type": "text"
      },
      "source": [
        "<a href=\"https://colab.research.google.com/github/mtalhahabib/Web_Engineering_Labs/blob/main/AI_assignment1.ipynb\" target=\"_parent\"><img src=\"https://colab.research.google.com/assets/colab-badge.svg\" alt=\"Open In Colab\"/></a>"
      ]
    },
    {
      "cell_type": "markdown",
      "source": [
        "Challenge:  Combine two lists into a single list with alternating elements from each list using step indexing.\n",
        "\n",
        "Given A = [1,3,5]\n",
        "B = [2,4,6]\n",
        "\n",
        "Create C which would be [1,2,3,4,56]\n"
      ],
      "metadata": {
        "id": "xHdsBsEBNWBv"
      }
    },
    {
      "cell_type": "code",
      "source": [
        "a=[1,3,5]\n",
        "b=[2,4,6]\n",
        "c=[]\n",
        "for i in range(0,len(a)):\n",
        "  c.append(a[i])\n",
        "  c.append(b[i])\n",
        "print(c)"
      ],
      "metadata": {
        "colab": {
          "base_uri": "https://localhost:8080/"
        },
        "id": "uBEuivgaNg6z",
        "outputId": "7ae67171-ba72-414d-87ec-ed282fde4986"
      },
      "execution_count": 4,
      "outputs": [
        {
          "output_type": "stream",
          "name": "stdout",
          "text": [
            "[1, 2, 3, 4, 5, 6]\n"
          ]
        }
      ]
    },
    {
      "cell_type": "markdown",
      "source": [
        "Challenge:  Change the order of elements in a list. (Move the first element to the last position).\n",
        "\n",
        "Given A = [1,2,3]\n",
        "I need B = [2,3,1]"
      ],
      "metadata": {
        "id": "Wfv_TDV0OKPG"
      }
    },
    {
      "cell_type": "code",
      "execution_count": 12,
      "metadata": {
        "colab": {
          "base_uri": "https://localhost:8080/"
        },
        "id": "y6cNLrewNRm6",
        "outputId": "23274ba8-0b64-4f0f-f140-023ec962194e"
      },
      "outputs": [
        {
          "output_type": "stream",
          "name": "stdout",
          "text": [
            "[3, 2, 1]\n"
          ]
        }
      ],
      "source": [
        "a = [1,2,3]\n",
        "b = []\n",
        "for i in a[::-1]:\n",
        "  b.append(i)\n",
        "print(b)"
      ]
    },
    {
      "cell_type": "markdown",
      "source": [
        "Challenge:  Extract a portion of a list but without using slicing\n",
        "\n",
        "Given fruits = [\"apple\", \"banana\", \"cherry\", \"orange\"]\n",
        "\n",
        "I need some_fruits = [\"apple\", \"banana\"]"
      ],
      "metadata": {
        "id": "ZnQMkjAsOQX1"
      }
    },
    {
      "cell_type": "markdown",
      "source": [],
      "metadata": {
        "id": "hcNmkmtvPGoW"
      }
    },
    {
      "cell_type": "code",
      "source": [
        "fruits = [\"apple\", \"banana\", \"cherry\", \"orange\"]\n",
        "some_fruits=[]\n",
        "for i in range(0,2):\n",
        "  some_fruits.append(fruits[i])\n",
        "print(some_fruits)"
      ],
      "metadata": {
        "colab": {
          "base_uri": "https://localhost:8080/"
        },
        "id": "HBnnVTm-PJWx",
        "outputId": "5c21c72a-7fd0-476f-8e6f-c8efa572731e"
      },
      "execution_count": 14,
      "outputs": [
        {
          "output_type": "stream",
          "name": "stdout",
          "text": [
            "['apple', 'banana']\n"
          ]
        }
      ]
    },
    {
      "cell_type": "code",
      "source": [],
      "metadata": {
        "id": "KrQZOuDnPzkC"
      },
      "execution_count": null,
      "outputs": []
    }
  ]
}